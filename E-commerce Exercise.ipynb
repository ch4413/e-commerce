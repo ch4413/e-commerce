{
 "cells": [
  {
   "cell_type": "markdown",
   "metadata": {},
   "source": [
    "## Python Exercise"
   ]
  },
  {
   "cell_type": "markdown",
   "metadata": {},
   "source": [
    "### A) How many of the returned products were accepted, rejected and went through the verification process?"
   ]
  },
  {
   "cell_type": "markdown",
   "metadata": {},
   "source": [
    "### 1. Get data: change directory and load in data as json object"
   ]
  },
  {
   "cell_type": "code",
   "execution_count": 1,
   "metadata": {
    "collapsed": true
   },
   "outputs": [],
   "source": [
    "# Import modules\n",
    "import os\n",
    "import json\n",
    "\n",
    "# Change directory to where \"product_matching_response.json\" file is\n",
    "os.chdir(\"C:/users/bre52623/Documents/Miscellaneous/Flubit/DS_analytics_test_2017\")"
   ]
  },
  {
   "cell_type": "code",
   "execution_count": 2,
   "metadata": {
    "collapsed": true
   },
   "outputs": [],
   "source": [
    "# Load in json item\n",
    "\n",
    "with open(\"product_matching_response.json\") as data_file:\n",
    "    data = json.load(data_file)"
   ]
  },
  {
   "cell_type": "markdown",
   "metadata": {},
   "source": [
    "### 2. Inspect data: View size and structure"
   ]
  },
  {
   "cell_type": "code",
   "execution_count": 3,
   "metadata": {
    "collapsed": false
   },
   "outputs": [
    {
     "data": {
      "text/plain": [
       "100"
      ]
     },
     "execution_count": 3,
     "metadata": {},
     "output_type": "execute_result"
    }
   ],
   "source": [
    "# There are 100 products in the list\n",
    "len(data.get(\"products\"))"
   ]
  },
  {
   "cell_type": "code",
   "execution_count": 4,
   "metadata": {
    "collapsed": false
   },
   "outputs": [
    {
     "data": {
      "text/plain": [
       "[u'category',\n",
       " u'merchants',\n",
       " u'main_image',\n",
       " u'name',\n",
       " u'brand',\n",
       " u'identifiers',\n",
       " u'sources',\n",
       " u'score',\n",
       " u'description_extract',\n",
       " u'images',\n",
       " u'description']"
      ]
     },
     "execution_count": 4,
     "metadata": {},
     "output_type": "execute_result"
    }
   ],
   "source": [
    "# To view the structure of each of the list items\n",
    "data.get(\"products\")[0].keys()"
   ]
  },
  {
   "cell_type": "markdown",
   "metadata": {},
   "source": [
    "### 3. Extract key data: collect scores from items"
   ]
  },
  {
   "cell_type": "code",
   "execution_count": 5,
   "metadata": {
    "collapsed": false
   },
   "outputs": [],
   "source": [
    "## strip out scores from each item\n",
    "all_scores = []\n",
    "\n",
    "for i in range(100):\n",
    "    score = data.get(\"products\")[i].get(\"score\")\n",
    "    all_scores.append(score)"
   ]
  },
  {
   "cell_type": "code",
   "execution_count": 6,
   "metadata": {
    "collapsed": false
   },
   "outputs": [
    {
     "data": {
      "text/plain": [
       "[0, u'0.000', u'0.000']"
      ]
     },
     "execution_count": 6,
     "metadata": {},
     "output_type": "execute_result"
    }
   ],
   "source": [
    "# all_scores is a list of integers and unicode items\n",
    "all_scores[-3:]"
   ]
  },
  {
   "cell_type": "code",
   "execution_count": 7,
   "metadata": {
    "collapsed": true
   },
   "outputs": [],
   "source": [
    "#convert to a tuple of floats\n",
    "float_scores = tuple([float(a) for a in all_scores])"
   ]
  },
  {
   "cell_type": "markdown",
   "metadata": {},
   "source": [
    "### 4. Assign values: Are they rejected, accepted or verified?"
   ]
  },
  {
   "cell_type": "code",
   "execution_count": 8,
   "metadata": {
    "collapsed": false
   },
   "outputs": [],
   "source": [
    "# Loop over the values given and assign them to rejected, accepted or verified.\n",
    "\n",
    "rej = 0\n",
    "acc = 0\n",
    "ver = 0\n",
    "\n",
    "for i in float_scores:\n",
    "    if i < 0.02:\n",
    "        rej += 1\n",
    "    elif 0.02 < i < 0.5:\n",
    "        ver += 1\n",
    "    else:\n",
    "        acc += 1"
   ]
  },
  {
   "cell_type": "markdown",
   "metadata": {},
   "source": [
    "### 5. Review Results: print out the findings"
   ]
  },
  {
   "cell_type": "code",
   "execution_count": 9,
   "metadata": {
    "collapsed": false
   },
   "outputs": [
    {
     "name": "stdout",
     "output_type": "stream",
     "text": [
      "Rejected:  66 \n",
      "Accepted:  23 \n",
      "Verified:  11 \n",
      "Total:  100\n"
     ]
    }
   ],
   "source": [
    "# Print results from the loop\n",
    "print \"Rejected: \", rej, '\\n', \"Accepted: \", acc, '\\n', \"Verified: \", ver,'\\n', \"Total: \", (rej + acc + ver)"
   ]
  },
  {
   "cell_type": "markdown",
   "metadata": {
    "collapsed": true
   },
   "source": [
    "### B) Of the accepted products, how many were in stock? (NB. for the purpose of this task you should consider the stock of the first merchant in the merchants array only)"
   ]
  },
  {
   "cell_type": "code",
   "execution_count": 10,
   "metadata": {
    "collapsed": false
   },
   "outputs": [
    {
     "data": {
      "text/plain": [
       "[u'sku',\n",
       " u'created_at',\n",
       " u'available',\n",
       " u'is_approved',\n",
       " u'weight',\n",
       " u'shipping_options',\n",
       " u'price',\n",
       " u'is_active',\n",
       " u'updated_at',\n",
       " u'name',\n",
       " u'selling_price',\n",
       " u'active',\n",
       " u'id',\n",
       " u'stock']"
      ]
     },
     "execution_count": 10,
     "metadata": {},
     "output_type": "execute_result"
    }
   ],
   "source": [
    "data.get(\"products\")[0].get(\"merchants\")[0].keys()"
   ]
  },
  {
   "cell_type": "code",
   "execution_count": 11,
   "metadata": {
    "collapsed": false
   },
   "outputs": [],
   "source": [
    "a = []\n",
    "for i in range(100):\n",
    "    if data.get(\"products\")[i].get(\"merchants\") == []:\n",
    "        a.append(0)\n",
    "#        a.append(None)\n",
    "    else:\n",
    "        a.append(data.get(\"products\")[i].get(\"merchants\")[0].get(\"stock\"))"
   ]
  },
  {
   "cell_type": "code",
   "execution_count": 12,
   "metadata": {
    "collapsed": false
   },
   "outputs": [
    {
     "data": {
      "text/plain": [
       "[0, 1, 3, 5, 6, 7, 8, 9, 10, 12, 14, 15, 16, 17, 18, 19, 20, 21]"
      ]
     },
     "execution_count": 12,
     "metadata": {},
     "output_type": "execute_result"
    }
   ],
   "source": [
    "index_list = []\n",
    "\n",
    "for i in range(len(float_scores)):\n",
    "    if float_scores[i] >= 0.5:\n",
    "        if a[i] > 0:\n",
    "            index_list.append(i)\n",
    "index_list"
   ]
  },
  {
   "cell_type": "code",
   "execution_count": 13,
   "metadata": {
    "collapsed": false
   },
   "outputs": [
    {
     "name": "stdout",
     "output_type": "stream",
     "text": [
      "In Stock:  18 \n",
      "Accepted:  23\n"
     ]
    }
   ],
   "source": [
    "print \"In Stock: \", len(index_list), \"\\n\", \"Accepted: \", acc"
   ]
  },
  {
   "cell_type": "markdown",
   "metadata": {},
   "source": [
    "What percentage of products that meet the match requirements are found to be in stock?"
   ]
  },
  {
   "cell_type": "code",
   "execution_count": 14,
   "metadata": {
    "collapsed": false
   },
   "outputs": [
    {
     "name": "stdout",
     "output_type": "stream",
     "text": [
      "In stock percentage:  78 %\n"
     ]
    }
   ],
   "source": [
    "print \"In stock percentage: \", 100 * len(index_list)/acc, \"%\""
   ]
  }
 ],
 "metadata": {
  "kernelspec": {
   "display_name": "Python 2",
   "language": "python",
   "name": "python2"
  },
  "language_info": {
   "codemirror_mode": {
    "name": "ipython",
    "version": 2
   },
   "file_extension": ".py",
   "mimetype": "text/x-python",
   "name": "python",
   "nbconvert_exporter": "python",
   "pygments_lexer": "ipython2",
   "version": "2.7.12"
  }
 },
 "nbformat": 4,
 "nbformat_minor": 0
}
